{
 "cells": [
  {
   "cell_type": "markdown",
   "id": "2dae72b8-43d4-40e7-8dce-6f3458e42818",
   "metadata": {
    "tags": []
   },
   "source": [
    "# Testing XLuminA: \n",
    "\n",
    "(1) *Diffractio vs XLuminA propagation functions.*\n",
    "\n",
    "(2) *JAX (autodiff-based ADAM) vs SciPy's (BFGS) optimization using XLuminA.*"
   ]
  },
  {
   "cell_type": "code",
   "execution_count": 27,
   "id": "e3b8dee2-f6c2-4383-8444-e193942adfd1",
   "metadata": {},
   "outputs": [],
   "source": [
    "import time\n",
    "import os\n",
    "import sys\n",
    "\n",
    "# Setting the path for XLuminA modules:\n",
    "current_path = os.path.abspath(os.path.join('..'))\n",
    "module_path = os.path.join(current_path)\n",
    "\n",
    "if module_path not in sys.path:\n",
    "    sys.path.append(module_path)"
   ]
  },
  {
   "cell_type": "markdown",
   "id": "cca4db6a-5b8c-4933-830b-5b3ed45c54a6",
   "metadata": {
    "jp-MarkdownHeadingCollapsed": true,
    "tags": []
   },
   "source": [
    "## (1) Speed test on propagation functions:\n",
    "\n",
    "    1. Scalar Rayleigh-Sommerfeld (RS)\n",
    "    2. Scalar Chirped z-transform (CZT)\n",
    "    3. Vectorial Rayleigh-Sommerfeld (VRS)\n",
    "    4. Vectorial Chirped z-transform (VCZT)\n",
    "    \n",
    "*Test for a computational window size of 2048x2048. You can change the sampling via \"resolution\".* "
   ]
  },
  {
   "cell_type": "code",
   "execution_count": 2,
   "id": "bb59d384-9481-403c-b86e-2459f7b80ee8",
   "metadata": {},
   "outputs": [],
   "source": [
    "resolution = 2048"
   ]
  },
  {
   "cell_type": "markdown",
   "id": "628755b6-5572-4593-8300-92dbdbed3ef2",
   "metadata": {
    "jp-MarkdownHeadingCollapsed": true,
    "tags": []
   },
   "source": [
    "### Diffractio: *runs on CPU device*"
   ]
  },
  {
   "cell_type": "code",
   "execution_count": 3,
   "id": "65196a3c-41d5-4a0d-98c4-732d3893a8f3",
   "metadata": {},
   "outputs": [],
   "source": [
    "from diffractio import np, degrees, um, mm\n",
    "from diffractio.scalar_sources_XY import Scalar_source_XY\n",
    "from diffractio.vector_sources_XY import Vector_source_XY\n",
    "from diffractio.scalar_fields_XY import Scalar_field_XY\n",
    "from diffractio.vector_fields_XY import Vector_field_XY"
   ]
  },
  {
   "cell_type": "code",
   "execution_count": 4,
   "id": "79843f19-9128-4417-a150-bd2566e43a11",
   "metadata": {},
   "outputs": [],
   "source": [
    "# System specs:\n",
    "wavelength = .6328 * um\n",
    "w0 = (1200*um , 1200*um)\n",
    "x = np.linspace(-15 * mm, 15 * mm, resolution)\n",
    "y = np.linspace(-15 * mm, 15 * mm, resolution)\n",
    "x_out = np.linspace(-15 * mm, 15 * mm, resolution)\n",
    "y_out = np.linspace(-15 * mm, 15 * mm, resolution)"
   ]
  },
  {
   "cell_type": "markdown",
   "id": "fc6204ac-b6ad-4a2d-a6eb-bab8ea31a60d",
   "metadata": {
    "tags": []
   },
   "source": [
    "#### Scalar optics"
   ]
  },
  {
   "cell_type": "code",
   "execution_count": 5,
   "id": "b51a4438-1dfb-4083-99b3-1962838389ba",
   "metadata": {},
   "outputs": [
    {
     "name": "stdout",
     "output_type": "stream",
     "text": [
      "Time taken for RS propagation - in seconds 4.051304008811712\n",
      "Time taken for CZT propagation - in seconds 1.9945963714271784\n"
     ]
    }
   ],
   "source": [
    "ls = Scalar_source_XY(x, y, wavelength, info='Light source')\n",
    "ls.gauss_beam(r0=(0 * um, 0 * um), w0=w0, z0=(0,0), A=1, theta=0 * degrees, phi=0 * degrees)\n",
    "\n",
    "# Rayleigh-Sommerfeld:\n",
    "tic = time.perf_counter()\n",
    "ls_propagated = ls.RS(z=5*mm)\n",
    "print(\"Time taken for RS propagation - in seconds\", time.perf_counter() - tic)\n",
    "\n",
    "# Chirped z-transform:\n",
    "tic = time.perf_counter()\n",
    "ls_propagated = ls.CZT(z=5*mm, xout=x_out, yout=y_out, verbose=False)\n",
    "print(\"Time taken for CZT propagation - in seconds\", time.perf_counter() - tic)"
   ]
  },
  {
   "cell_type": "markdown",
   "id": "bfc48484-3781-4800-bbdd-a3e5fd583c0f",
   "metadata": {
    "tags": []
   },
   "source": [
    "#### Vectorial optics"
   ]
  },
  {
   "cell_type": "code",
   "execution_count": 6,
   "id": "b3ea108d-9513-49d1-8a07-9fcbfbccac08",
   "metadata": {},
   "outputs": [
    {
     "name": "stdout",
     "output_type": "stream",
     "text": [
      "Time taken for VRS propagation - in seconds 12.461026553064585\n",
      "Time taken for VCZT propagation - in seconds 6.241402745246887\n"
     ]
    }
   ],
   "source": [
    "vls = Vector_source_XY(x, y, wavelength=wavelength, info='Light source polarization')\n",
    "vls.constant_polarization(u=ls, v=(1, 0), has_normalization=False, radius=(15*mm, 15*mm)) \n",
    "\n",
    "# Rayleigh-Sommerfeld:\n",
    "tic = time.perf_counter()\n",
    "vls.VRS(z=5*mm, n=1, new_field=False, verbose=False, amplification=(1, 1))\n",
    "print(\"Time taken for VRS propagation - in seconds\", time.perf_counter() - tic)\n",
    "\n",
    "# Chirped z-transform:\n",
    "tic = time.perf_counter()\n",
    "vls.CZT(z=5*mm, xout=x_out, yout=y_out, verbose=False)\n",
    "print(\"Time taken for VCZT propagation - in seconds\", time.perf_counter() - tic)"
   ]
  },
  {
   "cell_type": "markdown",
   "id": "fdb9398d-0b54-4dd5-839b-3047599a6a64",
   "metadata": {
    "tags": []
   },
   "source": [
    "### XLuminA: *runs on CPU and GPU*\n",
    "\n",
    "*If you are running this notebook in a* **CPU** *node, the software will automatically fall back to CPU. You don't need to change anything :)*\n",
    "\n",
    "*If you are running this notebook in a* **GPU** *node, you can enable the* **CPU** *via adding these lines of code at the beginning of the cell:*\n",
    "\n",
    "    import os\n",
    "    os.environ['CUDA_VISIBLE_DEVICES'] = '[]'\n",
    "    \n",
    "*For XLuminA's test we run the functions* **twice** *: the 1st time a function that contains the* **just-in-time decorator** *(@jit) is called, JAX takes extra time to store the function in cache. The second (and subsequent) runs just call the pre-compiled function so the computation is faster.*"
   ]
  },
  {
   "cell_type": "code",
   "execution_count": 3,
   "id": "39aad6ae-8181-4218-b46a-473b4ad3f8e0",
   "metadata": {},
   "outputs": [
    {
     "ename": "ModuleNotFoundError",
     "evalue": "No module named 'xlumina'",
     "output_type": "error",
     "traceback": [
      "\u001b[0;31m---------------------------------------------------------------------------\u001b[0m",
      "\u001b[0;31mModuleNotFoundError\u001b[0m                       Traceback (most recent call last)",
      "Cell \u001b[0;32mIn[3], line 1\u001b[0m\n\u001b[0;32m----> 1\u001b[0m \u001b[38;5;28;01mfrom\u001b[39;00m \u001b[38;5;21;01mxlumina\u001b[39;00m\u001b[38;5;21;01m.\u001b[39;00m\u001b[38;5;21;01m__init__\u001b[39;00m \u001b[38;5;28;01mimport\u001b[39;00m mm\n\u001b[1;32m      2\u001b[0m \u001b[38;5;28;01mfrom\u001b[39;00m \u001b[38;5;21;01mxlumina\u001b[39;00m\u001b[38;5;21;01m.\u001b[39;00m\u001b[38;5;21;01mwave_optics\u001b[39;00m \u001b[38;5;28;01mimport\u001b[39;00m \u001b[38;5;241m*\u001b[39m\n\u001b[1;32m      3\u001b[0m \u001b[38;5;28;01mfrom\u001b[39;00m \u001b[38;5;21;01mxlumina\u001b[39;00m\u001b[38;5;21;01m.\u001b[39;00m\u001b[38;5;21;01mvectorized_optics\u001b[39;00m \u001b[38;5;28;01mimport\u001b[39;00m \u001b[38;5;241m*\u001b[39m\n",
      "\u001b[0;31mModuleNotFoundError\u001b[0m: No module named 'xlumina'"
     ]
    }
   ],
   "source": [
    "from xlumina.__init__ import mm\n",
    "from xlumina.wave_optics import *\n",
    "from xlumina.vectorized_optics import *\n",
    "from xlumina.optical_elements import *\n",
    "from xlumina.loss_functions import *\n",
    "from xlumina.toolbox import space\n",
    "import jax.numpy as jnp\n",
    "\n",
    "wavelength = .6328 * um\n",
    "w0 = (1200*um , 1200*um)\n",
    "x, y = space(15*mm, resolution)\n",
    "x_out, y_out = jnp.array(space(15*mm, resolution))"
   ]
  },
  {
   "cell_type": "markdown",
   "id": "a65c47b3-2ca3-49a6-8b77-9bbacc8ebd68",
   "metadata": {
    "tags": []
   },
   "source": [
    "#### Scalar optics"
   ]
  },
  {
   "cell_type": "code",
   "execution_count": 5,
   "id": "5f6041ef-9ba2-4e98-842f-933211cdefd5",
   "metadata": {},
   "outputs": [
    {
     "name": "stdout",
     "output_type": "stream",
     "text": [
      "Time taken to perform one RS propagation (in seconds): 1.6592820473015308\n",
      "Time taken for 1st RS propagation - in seconds 1.6601537950336933\n",
      "Time taken to perform one RS propagation (in seconds): 0.009246926754713058\n",
      "Time taken for 2nd RS propagation - in seconds 0.00949065387248993\n",
      "Time taken to perform one CZT propagation (in seconds): 2.8923826217651367\n",
      "Time taken for 1st CZT propagation - in seconds 2.8929686844348907\n",
      "Time taken to perform one CZT propagation (in seconds): 0.030335675925016403\n",
      "Time taken for 2nd CZT propagation - in seconds 0.030557945370674133\n"
     ]
    }
   ],
   "source": [
    "gb = LightSource(x, y, wavelength)\n",
    "gb.gaussian_beam(w0=w0, E0=1)\n",
    "\n",
    "# Rayleigh-Sommerfeld:\n",
    "tic = time.perf_counter() \n",
    "ls_propagated = gb.RS_propagation(z=5*mm)\n",
    "print(\"Time taken for 1st RS propagation - in seconds\", time.perf_counter() - tic)\n",
    "\n",
    "tic = time.perf_counter() \n",
    "ls_propagated = gb.RS_propagation(z=5*mm)\n",
    "print(\"Time taken for 2nd RS propagation - in seconds\", time.perf_counter() - tic)\n",
    "\n",
    "# Chirped z-transform:\n",
    "tic = time.perf_counter() \n",
    "ls_propagated = gb.CZT(z=5*mm, xout=x_out, yout=y_out)\n",
    "print(\"Time taken for 1st CZT propagation - in seconds\", time.perf_counter() - tic)\n",
    "\n",
    "tic = time.perf_counter() \n",
    "ls_propagated = gb.CZT(z=5*mm, xout=x_out, yout=y_out)\n",
    "print(\"Time taken for 2nd CZT propagation - in seconds\", time.perf_counter() - tic)"
   ]
  },
  {
   "cell_type": "markdown",
   "id": "76b503cc-2d29-4845-be11-7ed6ba03aeb0",
   "metadata": {
    "tags": []
   },
   "source": [
    "#### Vectorial optics"
   ]
  },
  {
   "cell_type": "code",
   "execution_count": 6,
   "id": "bd6ca97f-3d3c-4990-bcb4-26ca3ce30fae",
   "metadata": {},
   "outputs": [
    {
     "name": "stdout",
     "output_type": "stream",
     "text": [
      "Time taken to perform one VRS propagation (in seconds): 1.3885535262525082\n",
      "Time taken for 1st VRS propagation - in seconds 1.3888123966753483\n",
      "Time taken to perform one VRS propagation (in seconds): 0.14746328070759773\n",
      "Time taken for 2nd VRS propagation - in seconds 0.14762601256370544\n",
      "Time taken to perform one VCZT propagation (in seconds): 1.1658967472612858\n",
      "Time taken for 1st VCZT propagation - in seconds 1.1661826558411121\n",
      "Time taken to perform one VCZT propagation (in seconds): 0.07554645836353302\n",
      "Time taken for 2nd VCZT propagation - in seconds 0.07574645429849625\n"
     ]
    }
   ],
   "source": [
    "gb_lp = PolarizedLightSource(x, y, wavelength)\n",
    "gb_lp.gaussian_beam(w0=w0, jones_vector=(1, 0))\n",
    "\n",
    "# Rayleigh-Sommerfeld:\n",
    "tic = time.perf_counter() \n",
    "gb_propagated = gb_lp.VRS_propagation(z=5*mm)\n",
    "print(\"Time taken for 1st VRS propagation - in seconds\", time.perf_counter() - tic)\n",
    "\n",
    "tic = time.perf_counter() \n",
    "gb_propagated = gb_lp.VRS_propagation(z=5*mm)\n",
    "print(\"Time taken for 2nd VRS propagation - in seconds\", time.perf_counter() - tic)\n",
    "\n",
    "# Chirped z-transform:\n",
    "tic = time.perf_counter() \n",
    "gb_propagated = gb_lp.VCZT(z=5*mm, xout=x_out, yout=y_out)\n",
    "print(\"Time taken for 1st VCZT propagation - in seconds\", time.perf_counter() - tic)\n",
    "\n",
    "tic = time.perf_counter() \n",
    "gb_propagated = gb_lp.VCZT(z=5*mm, xout=x_out, yout=y_out)\n",
    "print(\"Time taken for 2nd VCZT propagation - in seconds\", time.perf_counter() - tic)"
   ]
  },
  {
   "cell_type": "markdown",
   "id": "ee25250c-d579-43b4-85da-1b0ad73290df",
   "metadata": {
    "tags": []
   },
   "source": [
    "## (2) Comparison of XLuminA's autodiff optimization with numerical methods.\n",
    "\n",
    "*For this test we code an optical setup consisting of a gaussian beam interacting with a spatial light modulator (SLM) after some propagation. The ground truth is a gaussian beam with a spiral phase. The loss function is the mean squared error (MSE) of the phase between the outcome of the setup and the ground truth. Via optimization, we aim to rediscover the phase mask in the SLM device.*\n",
    "\n",
    "*We optimize using: (1) Diffractio's optical simulator with SciPy's BFGS optimizer (computing the gradients* **numerically** *) and (2) XLuminA with the ADAM optimizer from JAX, which due to autodiff, computes the gradients* **analytically**. *We run the optimization for different* **resolution**."
   ]
  },
  {
   "cell_type": "code",
   "execution_count": 38,
   "id": "c08c8556-0d31-45c7-b519-687ac156abb2",
   "metadata": {},
   "outputs": [],
   "source": [
    "resolution = 10"
   ]
  },
  {
   "cell_type": "markdown",
   "id": "909fb323-dfbe-48db-a076-f9ae48c11903",
   "metadata": {
    "tags": []
   },
   "source": [
    "### XLuminA with autodiff optimization (ADAM):"
   ]
  },
  {
   "cell_type": "code",
   "execution_count": 39,
   "id": "cdbebd1e-9374-4d0f-8fd6-479b1a7cd361",
   "metadata": {},
   "outputs": [],
   "source": [
    "from xlumina.__init__ import um, nm, mm, degrees, radians\n",
    "from xlumina.wave_optics import *\n",
    "from xlumina.optical_elements import SLM\n",
    "from xlumina.toolbox import space\n",
    "import jax.numpy as jnp\n",
    "import numpy as np"
   ]
  },
  {
   "cell_type": "code",
   "execution_count": 40,
   "id": "beddd43f-c1e7-4708-8dc1-2a64ff0a0f0b",
   "metadata": {},
   "outputs": [
    {
     "data": {
      "text/plain": [
       "<matplotlib.image.AxesImage at 0x1477247e21f0>"
      ]
     },
     "execution_count": 40,
     "metadata": {},
     "output_type": "execute_result"
    },
    {
     "data": {
      "image/png": "[encoded data removed]",
      "text/plain": [
       "<Figure size 640x480 with 1 Axes>"
      ]
     },
     "metadata": {},
     "output_type": "display_data"
    }
   ],
   "source": [
    "wavelength = 650*nm\n",
    "x_total = 1000*um \n",
    "x, y = space(x_total, resolution)\n",
    "shape = jnp.shape(x)[0]\n",
    "\n",
    "# Light source specs\n",
    "w0 = (1200*um , 1200*um)\n",
    "gb = LightSource(x, y, wavelength)\n",
    "gb.gaussian_beam(w0=w0, E0=1)\n",
    "gb_gt = ScalarLight(x, y, wavelength)\n",
    "# Set spiral phase for the ground truth\n",
    "phase_mask = jnp.arctan2(gb.Y,gb.X)\n",
    "gb_gt.field = gb.field * jnp.exp(1j * phase_mask)\n",
    "\n",
    "plt.imshow(phase_mask)"
   ]
  },
  {
   "cell_type": "code",
   "execution_count": 41,
   "id": "39398ddc-36ce-42b7-bf40-245383f37bc1",
   "metadata": {},
   "outputs": [],
   "source": [
    "# Define the setup\n",
    "def setup(gb, parameters):\n",
    "    gb_propagated = gb.RS_propagation(z=25000*mm)\n",
    "    gb_modulated, _ = SLM(gb, parameters, gb.x.shape[0])\n",
    "    return gb_modulated\n",
    "\n",
    "def mse_phase(input_light, target_light):\n",
    "    return jnp.sum((jnp.angle(input_light.field) - jnp.angle(target_light.field)) ** 2) / resolution**2\n",
    "def loss(parameters):\n",
    "    out = setup(gb, parameters)\n",
    "    loss_val = mse_phase(out, gb_gt)\n",
    "    return loss_val"
   ]
  },
  {
   "cell_type": "code",
   "execution_count": 45,
   "id": "8d363ec1-e4e6-4023-8e2b-4382884291d3",
   "metadata": {},
   "outputs": [
    {
     "name": "stdout",
     "output_type": "stream",
     "text": [
      "[gpu(id=0), gpu(id=1)]\n",
      "Starting Optimization\n",
      "Stopping criterion: no improvement in loss value for 50 steps\n",
      "Best loss: 9.932328871996077e-30 at step 5741; actual step 5800\n",
      "Time taken to optimize one sample - in seconds 3.0919757653027773\n"
     ]
    },
    {
     "data": {
      "text/plain": [
       "<matplotlib.image.AxesImage at 0x1477246df220>"
      ]
     },
     "execution_count": 45,
     "metadata": {},
     "output_type": "execute_result"
    },
    {
     "data": {
      "image/png": "[encoded data removed]",
      "text/plain": [
       "<Figure size 640x480 with 1 Axes>"
      ]
     },
     "metadata": {},
     "output_type": "display_data"
    }
   ],
   "source": [
    "import jax\n",
    "from jax import grad, jit\n",
    "from jax.example_libraries import optimizers\n",
    "\n",
    "# Print device info (GPU or CPU)\n",
    "print(jax.devices(), flush=True)\n",
    "\n",
    "# Define the update:\n",
    "@jit\n",
    "def update(step_index, optimizer_state):\n",
    "    # define single update step\n",
    "    parameters = get_params(optimizer_state)\n",
    "    # Call the loss function and compute the gradients\n",
    "    computed_loss = loss_value(parameters)\n",
    "    computed_gradients = grad(loss_value, allow_int=True)(parameters)\n",
    "\n",
    "    return opt_update(step_index, computed_gradients, optimizer_state), computed_loss, computed_gradients\n",
    "\n",
    "# Define the loss function and compute its gradients:\n",
    "loss_value = jit(loss)\n",
    "\n",
    "# Optimizer settings\n",
    "STEP_SIZE = 0.1\n",
    "num_iterations = 50000\n",
    "n_best = 50\n",
    "best_loss = 1e10\n",
    "best_params = None\n",
    "best_step = 0\n",
    "\n",
    "# Init parameters:\n",
    "init_params = jnp.array([np.random.uniform(-jnp.pi, jnp.pi, (resolution, resolution))], dtype=jnp.float64)\n",
    "   \n",
    "# Define the optimizer and initialize it\n",
    "opt_init, opt_update, get_params = optimizers.adam(STEP_SIZE)\n",
    "opt_state = opt_init(init_params)\n",
    "\n",
    "print('Starting Optimization', flush=True)\n",
    "tic = time.perf_counter()\n",
    "        \n",
    "# Optimize in a loop\n",
    "for step in range(num_iterations):\n",
    "        \n",
    "    opt_state, loss_value, gradients = update(step, opt_state)\n",
    "\n",
    "    if loss_value < best_loss:\n",
    "        best_loss = loss_value\n",
    "        best_params = get_params(opt_state)\n",
    "        best_step = step\n",
    "\n",
    "    # Stopping criteria:\n",
    "    if step % 100 == 0:\n",
    "        if step - best_step > n_best:\n",
    "            print(f'Stopping criterion: no improvement in loss value for {n_best} steps')\n",
    "            break\n",
    "\n",
    "print(f'Best loss: {best_loss} at step {best_step}; actual step {step}')\n",
    "print(\"Time taken to optimize one sample - in seconds\", time.perf_counter() - tic)\n",
    "\n",
    "plt.imshow(best_params[0])"
   ]
  },
  {
   "cell_type": "markdown",
   "id": "bf99a66b-434f-40e4-b362-448301924e9e",
   "metadata": {
    "tags": []
   },
   "source": [
    "### Diffractio with SciPy's optimizer (BFGS):"
   ]
  },
  {
   "cell_type": "code",
   "execution_count": 46,
   "id": "636e23cd-5c27-4b31-8f22-923e0e7988f2",
   "metadata": {},
   "outputs": [],
   "source": [
    "from diffractio import np, degrees, um, mm, nm\n",
    "from diffractio.scalar_sources_XY import Scalar_source_XY\n",
    "from diffractio.scalar_fields_XY import Scalar_field_XY"
   ]
  },
  {
   "cell_type": "code",
   "execution_count": 47,
   "id": "09ece06c-5aad-46f8-b6b1-bc4acc3d24c2",
   "metadata": {},
   "outputs": [],
   "source": [
    "# Light source settings\n",
    "wavelength = .6328 * um\n",
    "w0 = (1200*um , 1200*um)\n",
    "\n",
    "wavelength = 650*nm\n",
    "x_total = 1000*um \n",
    "x = np.linspace(-x_total , x_total , resolution)\n",
    "y = np.linspace(-x_total , x_total , resolution)\n",
    "gb = Scalar_source_XY(x, y, wavelength, info='Light source')\n",
    "gb.gauss_beam(r0=(0 * um, 0 * um), w0=w0, z0=(0,0), A=1, theta=0 * degrees, phi=0 * degrees)\n",
    "\n",
    "# Spiral phase for ground truth\n",
    "gb_gt = Scalar_field_XY(x, y, wavelength)\n",
    "phase_mask = np.arctan2(gb.Y,gb.X)\n",
    "gb_gt.u = gb.u * np.exp(1j * phase_mask)"
   ]
  },
  {
   "cell_type": "code",
   "execution_count": 57,
   "id": "18134d1b-c4dc-4afa-ba98-ab010cac38d7",
   "metadata": {},
   "outputs": [],
   "source": [
    "# Optical setup\n",
    "def setup(gb, parameters):\n",
    "    gb_propagated = gb.RS(25000*mm)\n",
    "    gb_modulated, _ = npSLM(gb_propagated.u, parameters, gb.x.shape[0])\n",
    "    return gb_modulated\n",
    "\n",
    "def mse_phase(input_light, target_light):\n",
    "    return np.sum((np.angle(input_light) - np.angle(target_light.u)) ** 2) / resolution**2\n",
    "\n",
    "def phase(phase):\n",
    "    return np.exp(1j * phase)\n",
    "\n",
    "def npSLM(input_field, phase_array, shape):\n",
    "    slm = np.fromfunction(lambda i, j: phase(phase_array[i, j]),\n",
    "                           (shape, shape), dtype=int)\n",
    "    light_out = input_field * slm  # Multiplies element-wise\n",
    "    return light_out, slm\n",
    "\n",
    "def loss(parameters_flat):\n",
    "    parameters = parameters_flat.reshape(resolution, resolution)\n",
    "    out = setup(gb, parameters)\n",
    "    loss_val = mse_phase(out, gb_gt)\n",
    "    return loss_val\n"
   ]
  },
  {
   "cell_type": "code",
   "execution_count": 70,
   "id": "2ddae8c7-368e-4770-97d4-317601f838d0",
   "metadata": {
    "tags": []
   },
   "outputs": [
    {
     "name": "stdout",
     "output_type": "stream",
     "text": [
      "Optimization terminated successfully.\n",
      "         Current function value: 0.000000\n",
      "         Iterations: 4\n",
      "         Function evaluations: 606\n",
      "         Gradient evaluations: 6\n",
      "Time taken to optimize one sample - in seconds 0.3504616217687726\n"
     ]
    },
    {
     "data": {
      "text/plain": [
       "<matplotlib.colorbar.Colorbar at 0x14771fb8a670>"
      ]
     },
     "execution_count": 70,
     "metadata": {},
     "output_type": "execute_result"
    },
    {
     "data": {
      "image/png": "[encoded data removed]",
      "text/plain": [
       "<Figure size 640x480 with 2 Axes>"
      ]
     },
     "metadata": {},
     "output_type": "display_data"
    }
   ],
   "source": [
    "from scipy.optimize import minimize \n",
    "\n",
    "# Init parameters\n",
    "parameters = np.random.uniform(-np.pi, np.pi, (resolution, resolution)).flatten()\n",
    "\n",
    "# Optimizer\n",
    "tic = time.perf_counter()\n",
    "res = minimize(loss, parameters, method='BFGS', options={'disp': True})\n",
    "print(\"Time taken to optimize one sample - in seconds\", time.perf_counter() - tic)\n",
    "\n",
    "result = (res.x).reshape(resolution, resolution)\n",
    "\n",
    "# Wrap phase (-pi, pi):\n",
    "plt.imshow(np.arctan2(np.cos(result), np.sin(result)))\n",
    "plt.colorbar()"
   ]
  },
  {
   "cell_type": "code",
   "execution_count": null,
   "id": "8401bb15-d445-418e-a458-9253a3887b2d",
   "metadata": {},
   "outputs": [],
   "source": []
  }
 ],
 "metadata": {
  "kernelspec": {
   "display_name": "pretzel",
   "language": "python",
   "name": "pretzel"
  },
  "language_info": {
   "codemirror_mode": {
    "name": "ipython",
    "version": 3
   },
   "file_extension": ".py",
   "mimetype": "text/x-python",
   "name": "python",
   "nbconvert_exporter": "python",
   "pygments_lexer": "ipython3",
   "version": "3.8.16"
  }
 },
 "nbformat": 4,
 "nbformat_minor": 5
}
